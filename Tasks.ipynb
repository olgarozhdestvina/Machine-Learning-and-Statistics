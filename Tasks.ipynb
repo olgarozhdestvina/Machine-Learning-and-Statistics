{
 "cells": [
  {
   "cell_type": "markdown",
   "metadata": {},
   "source": [
    "# Tasks 2020\n",
    "### [ Machine Learning and Statistics Module GMIT 2020 ]\n",
    "---\n",
    "\n",
    "Below are my solutions to the Task assessment.\n",
    "\n",
    "Completed by: *Olga Rozhdestvina (G00387844@gmit.ie)*\n",
    "\n",
    "---"
   ]
  },
  {
   "cell_type": "markdown",
   "metadata": {},
   "source": [
    "## Table of Contents\n",
    "* [Task 1](#task1)\n",
    "    * [Test of the function](#Test_of_the_function1)\n",
    "* [Task 2](#task2)\n",
    "    * [Test of the function](#Test_of_the_function2)\n",
    "* [Task 3](#task3)\n",
    "    * [Test of the function](#Test_of_the_function3)\n",
    "* [Task 4](#task4)\n",
    "    * [Test of the function](#Test_of_the_function4)\n",
    "\n",
    "---"
   ]
  },
  {
   "cell_type": "markdown",
   "metadata": {},
   "source": [
    "### __TASK 1__: Calculate square root of 2 to 100 decimal places <a name=\"task1\"></a>\n",
    "\n",
    "<img align=\"left\" width=\"200\" height=\"200\" src=\"https://upload.wikimedia.org/wikipedia/commons/thumb/c/c0/A_First_Letter_Square_root_of_2.svg/1280px-A_First_Letter_Square_root_of_2.svg.png\">"
   ]
  },
  {
   "cell_type": "markdown",
   "metadata": {},
   "source": [
    "\n",
    "To calculate the square root, we can use _Digit-by-digit calculation of principal roots of decimal numbers_ $^1$ with binary shift operations$^2$.\n",
    "\n",
    "$$ x_n = x + floor(\\frac{a}{x}) >> 1 $$\n",
    "\n",
    "The above approach finds an **integer** of the square root of $a$ to $n$ number of digits (in order to override limitation of floating point precision in Python).\n",
    "\n",
    "For this to work we need to consider $a$ as below$^3$:\n",
    "\n",
    "$$ a = a * (10^{2*n})$$\n",
    "\n",
    "After we have recieved the integer of the square root we covert it so we can place the decimal point at the right location$^4$\n",
    "\n",
    "\n",
    "> 1. Wikipedia: Methods of computing square roots: https://en.wikipedia.org/wiki/Methods_of_computing_square_roots#Decimal_(base_10)\n",
    "2. Wikipedia: Integer square root: https://en.wikipedia.org/wiki/Integer_square_root#Digit-by-digit_algorithm\n",
    "3. The On-Line Encyclopedia of Integer Sequences: Prime sieve of the square root of 2: https://oeis.org/A248831\n",
    "4. Stack Overflow: How to add commas at required positions in the given string: https://stackoverflow.com/questions/47751102/how-to-add-commas-at-required-positions-in-the-given-string-in-python"
   ]
  },
  {
   "cell_type": "code",
   "execution_count": 1,
   "metadata": {},
   "outputs": [],
   "source": [
    "def sqrt2(a=2, digits=100):\n",
    "    \"\"\"\n",
    "    Function that calculates a square root of 2 to 100 decimal places\n",
    "    \"\"\"\n",
    "    # Raising 2 in order to get an integer instead of a float in the result\n",
    "    a = a * (10**(2*digits))\n",
    "    x = 0\n",
    "    # Initial guess for the root\n",
    "    x_next = 1 * (10**digits)\n",
    "    # Loop until it reaches requested number of digits\n",
    "    while x != x_next:\n",
    "        x = x_next\n",
    "        # Calculate a better guess for the square root and shift the result one diggit to the right\n",
    "        x_next = (x + (a // x)) >> 1\n",
    "    # Converting integer to a list\n",
    "    x_next = list(str(x_next))\n",
    "    # Add the decimal point at the correct location\n",
    "    for i, j in enumerate([1]):\n",
    "         x_next.insert(i + j, '.')\n",
    "    # Join list into one string\n",
    "    print(''.join(x_next))"
   ]
  },
  {
   "cell_type": "markdown",
   "metadata": {},
   "source": [
    "#### Test of the function <a name=\"Test_of_the_function1\"></a>\n",
    "Below is the test of the above function."
   ]
  },
  {
   "cell_type": "code",
   "execution_count": 2,
   "metadata": {},
   "outputs": [
    {
     "name": "stdout",
     "output_type": "stream",
     "text": [
      "1.4142135623730950488016887242096980785696718753769480731766797379907324784621070388503875343276415727\n"
     ]
    }
   ],
   "source": [
    "sqrt2()"
   ]
  },
  {
   "attachments": {},
   "cell_type": "markdown",
   "metadata": {},
   "source": [
    "---\n",
    "### __TASK 2__: Verify the Chi-squared value <a name=\"task2\"></a>\n",
    "\n",
    "<img align=\"left\" width=\"150\" height=\"150\" src=\"https://images-na.ssl-images-amazon.com/images/I/61B6FqgRKJL.png\">\n"
   ]
  },
  {
   "cell_type": "markdown",
   "metadata": {},
   "source": [
    "Consider the table below:\n",
    "\n",
    " - | A | B | C | D | total\n",
    " - | - | - | - | - | ----\n",
    "White collar | 90 | 60 | 104 | 95 | 349\n",
    "Blue collar\t| 30 | 50 | 51 | 20 | 151\n",
    "No collar | 30 | 40 | 45 | 35 | 150\n",
    "Total | 150 | 150 | 200 | 150 | 650\n",
    "\n",
    "_where A, B, C, and D are four neighbourhoods;_\n",
    "\n",
    "_\"white collar\", \"blue collar\", or \"no collar\" are occupation of randomly selected 650 residents._\n",
    "\n",
    "This is an example of Chi-squared test for categorical data. The Chi-squared value based on the above table is approximately 24.6. $^1$ To verify this value\n",
    "\n",
    "\n",
    "> 1. [Wikipedia: Chi-squared test](https://en.wikipedia.org/wiki/Chi-squared_test)\n"
   ]
  },
  {
   "cell_type": "code",
   "execution_count": 3,
   "metadata": {},
   "outputs": [],
   "source": [
    "# Efficient numerical arrays.\n",
    "import numpy as np\n",
    "# Data frames.\n",
    "import pandas as pd\n",
    "# Statistics.\n",
    "import scipy.stats as ss\n",
    "# Plotting.\n",
    "import matplotlib.pyplot as plt\n",
    "# Another package for plotting.\n",
    "import seaborn as sns\n",
    "\n",
    "# Colour scheme and styles for plots.\n",
    "sns.set_theme(palette=\"Set2\", context=\"paper\", font_scale=1.5)\n",
    "\n",
    "# Better sized plots.\n",
    "plt.rcParams['figure.figsize'] = (10, 6)"
   ]
  },
  {
   "cell_type": "code",
   "execution_count": null,
   "metadata": {},
   "outputs": [],
   "source": []
  }
 ],
 "metadata": {
  "kernelspec": {
   "display_name": "Python 3",
   "language": "python",
   "name": "python3"
  },
  "language_info": {
   "codemirror_mode": {
    "name": "ipython",
    "version": 3
   },
   "file_extension": ".py",
   "mimetype": "text/x-python",
   "name": "python",
   "nbconvert_exporter": "python",
   "pygments_lexer": "ipython3",
   "version": "3.7.4"
  }
 },
 "nbformat": 4,
 "nbformat_minor": 2
}
