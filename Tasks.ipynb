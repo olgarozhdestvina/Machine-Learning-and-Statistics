{
 "cells": [
  {
   "cell_type": "markdown",
   "metadata": {},
   "source": [
    "# Tasks 2020\n",
    "### [ Machine Learning and Statistics Module GMIT 2020 ]\n",
    "---\n",
    "\n",
    "Below are my solutions to the Task assessment.\n",
    "\n",
    "Completed by: *Olga Rozhdestvina (G00387844@gmit.ie)*\n",
    "\n",
    "---"
   ]
  },
  {
   "cell_type": "markdown",
   "metadata": {},
   "source": [
    "## Table of Contents\n",
    "* [Task 1](#task1)\n",
    "    * [Test of the function](#Test_of_the_function1)\n",
    "* [Task 2](#task2)\n",
    "    * [Test of the function](#Test_of_the_function2)\n",
    "* [Task 3](#task3)\n",
    "    * [Test of the function](#Test_of_the_function3)\n",
    "* [Task 4](#task4)\n",
    "    * [Test of the function](#Test_of_the_function4)\n",
    "\n",
    "---"
   ]
  },
  {
   "cell_type": "markdown",
   "metadata": {},
   "source": [
    "### __TASK 1__: Calculate square root of 2 to 100 decimal places <a name=\"task1\"></a>\n",
    "\n",
    "<img align=\"left\" width=\"200\" height=\"200\" src=\"https://upload.wikimedia.org/wikipedia/commons/thumb/c/c0/A_First_Letter_Square_root_of_2.svg/1280px-A_First_Letter_Square_root_of_2.svg.png\">"
   ]
  },
  {
   "cell_type": "markdown",
   "metadata": {},
   "source": [
    "\n",
    "To calculate the square root, we can use _Digit-by-digit calculation of principal roots of decimal numbers_ [1] with binary shift operations [2].\n",
    "\n",
    "$$ x_n = x + floor(\\frac{a}{x}) >> 1 $$\n",
    "\n",
    "The above approach finds an **integer** of the square root of $a$ to $n$ number of digits (in order to override limitation of floating point precision in Python).\n",
    "\n",
    "For this to work we need to consider $a$ as below [3]:\n",
    "\n",
    "$$ a = a * (10^{2*n})$$\n",
    "\n",
    "After we have recieved the integer of the square root we covert it so we can place the decimal point at the right location [4]\n",
    "\n",
    "> 1. Wikipedia: Methods of computing square roots: https://en.wikipedia.org/wiki/Methods_of_computing_square_roots#Decimal_(base_10)\n",
    "2. Wikipedia: Integer square root: https://en.wikipedia.org/wiki/Integer_square_root#Digit-by-digit_algorithm\n",
    "3. The On-Line Encyclopedia of Integer Sequences: Prime sieve of the square root of 2: https://oeis.org/A248831\n",
    "4. Stack Overflow: How to add commas at required positions in the given string: https://stackoverflow.com/questions/47751102/how-to-add-commas-at-required-positions-in-the-given-string-in-python"
   ]
  },
  {
   "cell_type": "code",
   "execution_count": 1,
   "metadata": {},
   "outputs": [],
   "source": [
    "def sqrt2(a=2, digits=100):\n",
    "    \"\"\"\n",
    "    Function that calculates a square root of 2 to 100 decimal places\n",
    "    \"\"\"\n",
    "    # Raising 2 in order to get an integer instead of a float in the result\n",
    "    a = a * (10**(2*digits))\n",
    "    x = 0\n",
    "    # Initial guess for the root\n",
    "    x_next = 1 * (10**digits)\n",
    "    # Loop until it reaches requested number of digits\n",
    "    while x != x_next:\n",
    "        x = x_next\n",
    "        # Calculate a better guess for the square root and shift the result one diggit to the right\n",
    "        x_next = (x + (a // x)) >> 1\n",
    "    # Converting integer to a list\n",
    "    x_next = list(str(x_next))\n",
    "    # Add the decimal point at the correct location\n",
    "    for i, j in enumerate([1]):\n",
    "         x_next.insert(i + j, '.')\n",
    "    # Join list into one string\n",
    "    print(''.join(x_next))"
   ]
  },
  {
   "cell_type": "markdown",
   "metadata": {},
   "source": [
    "<br>\n",
    "\n",
    "#### Test of the function <a name=\"Test_of_the_function1\"></a>\n",
    "Below is the test of the above function."
   ]
  },
  {
   "cell_type": "code",
   "execution_count": 2,
   "metadata": {},
   "outputs": [
    {
     "name": "stdout",
     "output_type": "stream",
     "text": [
      "1.4142135623730950488016887242096980785696718753769480731766797379907324784621070388503875343276415727\n"
     ]
    }
   ],
   "source": [
    "sqrt2()"
   ]
  },
  {
   "cell_type": "markdown",
   "metadata": {},
   "source": [
    "***\n",
    "\n",
    "<br>\n",
    "\n",
    "### __TASK 2__: Verify the Chi-squared value <a name=\"task2\"></a>\n",
    "\n",
    "<br>\n",
    "\n",
    "<img align=\"left\" width=\"150\" height=\"150\" src=\"https://images-na.ssl-images-amazon.com/images/I/61B6FqgRKJL.png\">"
   ]
  },
  {
   "cell_type": "markdown",
   "metadata": {},
   "source": [
    "<br>\n",
    "\n",
    "Consider the table below:\n",
    "\n",
    " * | A | B | C | D | total\n",
    ":-- | :-- | :-- | :-- | :-- | :--\n",
    "White collar | 90 | 60 | 104 | 95 | 349\n",
    "Blue collar\t| 30 | 50 | 51 | 20 | 151\n",
    "No collar | 30 | 40 | 45 | 35 | 150\n",
    "Total | 150 | 150 | 200 | 150 | 650\n",
    "\n",
    "_where A, B, C, and D are four neighbourhoods;_\n",
    "\n",
    "_\"white collar\", \"blue collar\", or \"no collar\" are occupation of randomly selected 650 residents._\n",
    "\n",
    "This is an example of Chi-squared test for categorical data. The Chi-squared value based on the above table is approximately 24.6. [1] In order to verify this value and calculate the associated p value I will be using a function from [scipy.stats package](https://docs.scipy.org/doc/scipy/reference/stats.html) that computes a Chi-square test of independence of variables in a contingency table. [2]\n",
    "\n",
    "> 1. [Wikipedia: Chi-squared test](https://en.wikipedia.org/wiki/Chi-squared_test)\n",
    "2. [SciPy: scipy.stats.chi2_contingency](https://docs.scipy.org/doc/scipy/reference/generated/scipy.stats.chi2_contingency.html)"
   ]
  },
  {
   "cell_type": "markdown",
   "metadata": {},
   "source": [
    "<br>\n",
    "\n",
    "#### General setup"
   ]
  },
  {
   "cell_type": "code",
   "execution_count": 3,
   "metadata": {},
   "outputs": [],
   "source": [
    "# Efficient numerical arrays.\n",
    "import numpy as np\n",
    "# Data frames.\n",
    "import pandas as pd\n",
    "# Statistics.\n",
    "import scipy.stats as ss\n",
    "# Plotting.\n",
    "import matplotlib.pyplot as plt\n",
    "# Another package for plotting.\n",
    "import seaborn as sns"
   ]
  },
  {
   "cell_type": "code",
   "execution_count": 4,
   "metadata": {},
   "outputs": [],
   "source": [
    "# Colour scheme and styles for plots.\n",
    "sns.set_theme(palette=\"Set2\", context=\"paper\", font_scale=1.5)\n",
    "\n",
    "# Better sized plots.\n",
    "plt.rcParams['figure.figsize'] = (15, 11)"
   ]
  },
  {
   "cell_type": "markdown",
   "metadata": {},
   "source": [
    "<br>\n",
    "\n",
    "#### Simulate the example table"
   ]
  },
  {
   "cell_type": "code",
   "execution_count": 5,
   "metadata": {
    "scrolled": false
   },
   "outputs": [
    {
     "data": {
      "text/html": [
       "<div>\n",
       "<style scoped>\n",
       "    .dataframe tbody tr th:only-of-type {\n",
       "        vertical-align: middle;\n",
       "    }\n",
       "\n",
       "    .dataframe tbody tr th {\n",
       "        vertical-align: top;\n",
       "    }\n",
       "\n",
       "    .dataframe thead th {\n",
       "        text-align: right;\n",
       "    }\n",
       "</style>\n",
       "<table border=\"1\" class=\"dataframe\">\n",
       "  <thead>\n",
       "    <tr style=\"text-align: right;\">\n",
       "      <th></th>\n",
       "      <th></th>\n",
       "      <th>A</th>\n",
       "      <th>B</th>\n",
       "      <th>C</th>\n",
       "      <th>D</th>\n",
       "      <th>Total</th>\n",
       "    </tr>\n",
       "  </thead>\n",
       "  <tbody>\n",
       "    <tr>\n",
       "      <td>0</td>\n",
       "      <td>White collar</td>\n",
       "      <td>90</td>\n",
       "      <td>60</td>\n",
       "      <td>104</td>\n",
       "      <td>95</td>\n",
       "      <td>349</td>\n",
       "    </tr>\n",
       "    <tr>\n",
       "      <td>1</td>\n",
       "      <td>Blue collar</td>\n",
       "      <td>30</td>\n",
       "      <td>50</td>\n",
       "      <td>51</td>\n",
       "      <td>20</td>\n",
       "      <td>151</td>\n",
       "    </tr>\n",
       "    <tr>\n",
       "      <td>2</td>\n",
       "      <td>No collar</td>\n",
       "      <td>30</td>\n",
       "      <td>40</td>\n",
       "      <td>45</td>\n",
       "      <td>35</td>\n",
       "      <td>150</td>\n",
       "    </tr>\n",
       "    <tr>\n",
       "      <td>3</td>\n",
       "      <td>Total</td>\n",
       "      <td>150</td>\n",
       "      <td>150</td>\n",
       "      <td>200</td>\n",
       "      <td>150</td>\n",
       "      <td>650</td>\n",
       "    </tr>\n",
       "  </tbody>\n",
       "</table>\n",
       "</div>"
      ],
      "text/plain": [
       "                   A    B    C    D  Total\n",
       "0  White collar   90   60  104   95    349\n",
       "1   Blue collar   30   50   51   20    151\n",
       "2     No collar   30   40   45   35    150\n",
       "3         Total  150  150  200  150    650"
      ]
     },
     "execution_count": 5,
     "metadata": {},
     "output_type": "execute_result"
    }
   ],
   "source": [
    "# Create a raw data identical to the example.\n",
    "raw_data = [['White collar', 90, 60, 104, 95, 349],\n",
    "            ['Blue collar', 30, 50, 51, 20, 151],\n",
    "            ['No collar', 30, 40, 45, 35, 150],\n",
    "            ['Total', 150, 150, 200, 150, 650]]  \n",
    "\n",
    "# Create a data frame. \n",
    "df = pd.DataFrame(raw_data, columns=[' ', 'A', 'B', 'C', 'D', 'Total'])\n",
    "\n",
    "# Display the data frame.\n",
    "df"
   ]
  },
  {
   "cell_type": "markdown",
   "metadata": {},
   "source": [
    "<br>\n",
    "\n",
    "#### Plot the data."
   ]
  },
  {
   "cell_type": "code",
   "execution_count": 6,
   "metadata": {
    "scrolled": true
   },
   "outputs": [],
   "source": [
    "# Separate the data frame by collars:\n",
    "wc = df.loc[df.loc[:, ' '] == 'White collar']\n",
    "bc = df.loc[df.loc[:, ' '] == 'Blue collar']\n",
    "nc = df.loc[df.loc[:, ' '] == 'No collar']\n",
    "total = df.loc[df.loc[:, ' '] == 'Total']"
   ]
  },
  {
   "cell_type": "code",
   "execution_count": 7,
   "metadata": {},
   "outputs": [
    {
     "data": {
      "image/png": "[encoded data removed]",
      "text/plain": [
       "<Figure size 1080x792 with 4 Axes>"
      ]
     },
     "metadata": {},
     "output_type": "display_data"
    }
   ],
   "source": [
    "# Create 2x2 subplot.\n",
    "fig, [[ax1, ax2], [ax3, ax4]] = plt.subplots(2,2, sharey=False)\n",
    "\n",
    "# Build a plot for White collar.\n",
    "sns.barplot(data=wc, ax=ax1).set_title('White Collar')\n",
    "\n",
    "# Build a plot for Blue collar.\n",
    "sns.barplot(data=bc, ax=ax2).set_title('Blue Collar')\n",
    "\n",
    "# Build a plot for No collar.\n",
    "sns.barplot(data=nc, ax=ax3).set_title('No Collar')\n",
    "\n",
    "# Build a plot for Total.\n",
    "sns.barplot(data=total, ax=ax4).set_title('Total')\n",
    "\n",
    "# Clean up whitespace padding.\n",
    "fig.tight_layout()\n",
    "\n",
    "# Display plots.\n",
    "plt.show()"
   ]
  },
  {
   "cell_type": "markdown",
   "metadata": {},
   "source": [
    "<br>\n",
    "\n",
    "#### Perform Chi-square test"
   ]
  },
  {
   "cell_type": "code",
   "execution_count": 8,
   "metadata": {},
   "outputs": [],
   "source": [
    "# Extract data from raw_data for each collar (dof = 6)\n",
    "wc = raw_data[0][1:5]\n",
    "bc = raw_data[1][1:5]\n",
    "nc = raw_data[2][1:5]\n",
    "\n",
    "# Create an array of observed data.\n",
    "obs = np.array([wc,bc,nc])\n",
    "\n",
    "# Run Chi-Square test.\n",
    "chi_stat, p, dof, expctd = ss.chi2_contingency(obs)"
   ]
  },
  {
   "cell_type": "code",
   "execution_count": 9,
   "metadata": {
    "scrolled": false
   },
   "outputs": [
    {
     "name": "stdout",
     "output_type": "stream",
     "text": [
      "Chi-squared value: 24.5712028585826\n",
      "The associated p-value: 0.0004098425861096696\n"
     ]
    }
   ],
   "source": [
    "print(f\"Chi-squared value: {chi_stat}\")\n",
    "print(f\"The associated p-value: {p}\")"
   ]
  },
  {
   "cell_type": "markdown",
   "metadata": {},
   "source": [
    "#### Concussion\n",
    "\n",
    "Based on the results of the test performed above the verification was successful and the Chi-squared value is approximately 24.6. Since the P-value (approximately 0.0004) and less than the significance level (0.5), it is statistically significant."
   ]
  },
  {
   "cell_type": "markdown",
   "metadata": {},
   "source": [
    "***\n",
    "\n",
    "<br>\n",
    " \n",
    "### __TASK 3__:  Standard deviation in Microsoft Excel: STDDEV.S vs  STDDEV.P <a name=\"task3\"></a>\n",
    "\n",
    "<br>\n",
    "\n",
    "<img align=\"left\" width=\"150\" height=\"150\" src=\"https://www.tech-recipes.com/wp-content/uploads/2019/05/excel.png\">"
   ]
  },
  {
   "cell_type": "markdown",
   "metadata": {},
   "source": [
    "Standard deviation is a measure of the amount of variation in a set of numbers compared to the mean (average) of the numbers. Microsoft Excel has total eight formaulas that related to standard deviation calculation. They are equally devided into two groups - _Population_ and _Sample_ - depending on whether they consider an entire data set (population) or just a sample of the data set. Thus, \"S\" in **STDEV.S** represents a sample and \"P\" in **STDDEV.P** - a population. [1] [2]\n",
    "\n",
    "In order to demonstrate that STDEV.S is a better estimate for the standard deviation of a population when performed on a sample, I will compare STDEV.P and STDEV.S.\n",
    " \n",
    "> 1. [Exceljet: Excel STDEV.P Function](https://exceljet.net/excel-functions/excel-stdev.p-function)\n",
    "2. [Exceljet: Excel STDEV.S Function](https://exceljet.net/excel-functions/excel-stdev.s-function)"
   ]
  },
  {
   "cell_type": "markdown",
   "metadata": {},
   "source": [
    "_EXAMPLE_\n",
    "\n",
    "Let's consider the data set where 82 adults psychiatric patients hospitalized for depression. [3]\n",
    "\n",
    "> 3. [Vincent Arel-Bundock's Github projects: R data sets: Data on Depression](https://vincentarelbundock.github.io/Rdatasets/doc/carData/Ginzberg.html)"
   ]
  },
  {
   "cell_type": "markdown",
   "metadata": {},
   "source": [
    "\n",
    "<br>\n",
    "\n",
    "#### General setup"
   ]
  },
  {
   "cell_type": "code",
   "execution_count": 10,
   "metadata": {},
   "outputs": [],
   "source": [
    "# Import numpy\n",
    "import numpy as np\n",
    "# Working with data sets.\n",
    "import pandas as pd\n",
    "# Plotting. \n",
    "import matplotlib.pyplot as plt"
   ]
  },
  {
   "cell_type": "code",
   "execution_count": 11,
   "metadata": {},
   "outputs": [],
   "source": [
    "# Colour scheme and styles for plots.\n",
    "sns.set_theme(palette=\"cividis\", context=\"paper\", font_scale=1.5)\n",
    "\n",
    "# Better sized plots.\n",
    "plt.rcParams['figure.figsize'] = (12, 8)"
   ]
  },
  {
   "cell_type": "markdown",
   "metadata": {},
   "source": [
    "<br>\n",
    "\n",
    "#### Load the data set"
   ]
  },
  {
   "cell_type": "code",
   "execution_count": 12,
   "metadata": {
    "scrolled": true
   },
   "outputs": [
    {
     "data": {
      "text/html": [
       "<div>\n",
       "<style scoped>\n",
       "    .dataframe tbody tr th:only-of-type {\n",
       "        vertical-align: middle;\n",
       "    }\n",
       "\n",
       "    .dataframe tbody tr th {\n",
       "        vertical-align: top;\n",
       "    }\n",
       "\n",
       "    .dataframe thead th {\n",
       "        text-align: right;\n",
       "    }\n",
       "</style>\n",
       "<table border=\"1\" class=\"dataframe\">\n",
       "  <thead>\n",
       "    <tr style=\"text-align: right;\">\n",
       "      <th></th>\n",
       "      <th>Unnamed: 0</th>\n",
       "      <th>simplicity</th>\n",
       "      <th>fatalism</th>\n",
       "      <th>depression</th>\n",
       "      <th>adjsimp</th>\n",
       "      <th>adjfatal</th>\n",
       "      <th>adjdep</th>\n",
       "    </tr>\n",
       "  </thead>\n",
       "  <tbody>\n",
       "    <tr>\n",
       "      <td>0</td>\n",
       "      <td>1</td>\n",
       "      <td>0.92983</td>\n",
       "      <td>0.35589</td>\n",
       "      <td>0.59870</td>\n",
       "      <td>0.75934</td>\n",
       "      <td>0.10673</td>\n",
       "      <td>0.41865</td>\n",
       "    </tr>\n",
       "    <tr>\n",
       "      <td>1</td>\n",
       "      <td>2</td>\n",
       "      <td>0.91097</td>\n",
       "      <td>1.18439</td>\n",
       "      <td>0.72787</td>\n",
       "      <td>0.72717</td>\n",
       "      <td>0.99915</td>\n",
       "      <td>0.51688</td>\n",
       "    </tr>\n",
       "    <tr>\n",
       "      <td>2</td>\n",
       "      <td>3</td>\n",
       "      <td>0.53366</td>\n",
       "      <td>-0.05837</td>\n",
       "      <td>0.53411</td>\n",
       "      <td>0.62176</td>\n",
       "      <td>0.03811</td>\n",
       "      <td>0.70699</td>\n",
       "    </tr>\n",
       "    <tr>\n",
       "      <td>3</td>\n",
       "      <td>4</td>\n",
       "      <td>0.74118</td>\n",
       "      <td>0.35589</td>\n",
       "      <td>0.56641</td>\n",
       "      <td>0.83522</td>\n",
       "      <td>0.42218</td>\n",
       "      <td>0.65639</td>\n",
       "    </tr>\n",
       "    <tr>\n",
       "      <td>4</td>\n",
       "      <td>5</td>\n",
       "      <td>0.53366</td>\n",
       "      <td>0.77014</td>\n",
       "      <td>0.50182</td>\n",
       "      <td>0.47697</td>\n",
       "      <td>0.81423</td>\n",
       "      <td>0.53518</td>\n",
       "    </tr>\n",
       "    <tr>\n",
       "      <td>...</td>\n",
       "      <td>...</td>\n",
       "      <td>...</td>\n",
       "      <td>...</td>\n",
       "      <td>...</td>\n",
       "      <td>...</td>\n",
       "      <td>...</td>\n",
       "      <td>...</td>\n",
       "    </tr>\n",
       "    <tr>\n",
       "      <td>77</td>\n",
       "      <td>78</td>\n",
       "      <td>1.04302</td>\n",
       "      <td>1.80577</td>\n",
       "      <td>1.47061</td>\n",
       "      <td>0.72117</td>\n",
       "      <td>1.50039</td>\n",
       "      <td>1.14913</td>\n",
       "    </tr>\n",
       "    <tr>\n",
       "      <td>78</td>\n",
       "      <td>79</td>\n",
       "      <td>1.79763</td>\n",
       "      <td>2.22003</td>\n",
       "      <td>1.40603</td>\n",
       "      <td>1.59752</td>\n",
       "      <td>2.05016</td>\n",
       "      <td>1.16443</td>\n",
       "    </tr>\n",
       "    <tr>\n",
       "      <td>79</td>\n",
       "      <td>80</td>\n",
       "      <td>2.11834</td>\n",
       "      <td>0.77014</td>\n",
       "      <td>2.01960</td>\n",
       "      <td>2.39515</td>\n",
       "      <td>0.88910</td>\n",
       "      <td>2.24452</td>\n",
       "    </tr>\n",
       "    <tr>\n",
       "      <td>80</td>\n",
       "      <td>81</td>\n",
       "      <td>1.42033</td>\n",
       "      <td>1.18439</td>\n",
       "      <td>1.47061</td>\n",
       "      <td>1.31493</td>\n",
       "      <td>1.04058</td>\n",
       "      <td>1.37153</td>\n",
       "    </tr>\n",
       "    <tr>\n",
       "      <td>81</td>\n",
       "      <td>82</td>\n",
       "      <td>0.98643</td>\n",
       "      <td>1.18439</td>\n",
       "      <td>1.56749</td>\n",
       "      <td>0.97903</td>\n",
       "      <td>1.23973</td>\n",
       "      <td>1.65687</td>\n",
       "    </tr>\n",
       "  </tbody>\n",
       "</table>\n",
       "<p>82 rows × 7 columns</p>\n",
       "</div>"
      ],
      "text/plain": [
       "    Unnamed: 0  simplicity  fatalism  depression  adjsimp  adjfatal   adjdep\n",
       "0            1     0.92983   0.35589     0.59870  0.75934   0.10673  0.41865\n",
       "1            2     0.91097   1.18439     0.72787  0.72717   0.99915  0.51688\n",
       "2            3     0.53366  -0.05837     0.53411  0.62176   0.03811  0.70699\n",
       "3            4     0.74118   0.35589     0.56641  0.83522   0.42218  0.65639\n",
       "4            5     0.53366   0.77014     0.50182  0.47697   0.81423  0.53518\n",
       "..         ...         ...       ...         ...      ...       ...      ...\n",
       "77          78     1.04302   1.80577     1.47061  0.72117   1.50039  1.14913\n",
       "78          79     1.79763   2.22003     1.40603  1.59752   2.05016  1.16443\n",
       "79          80     2.11834   0.77014     2.01960  2.39515   0.88910  2.24452\n",
       "80          81     1.42033   1.18439     1.47061  1.31493   1.04058  1.37153\n",
       "81          82     0.98643   1.18439     1.56749  0.97903   1.23973  1.65687\n",
       "\n",
       "[82 rows x 7 columns]"
      ]
     },
     "execution_count": 12,
     "metadata": {},
     "output_type": "execute_result"
    }
   ],
   "source": [
    "# Load the data set.\n",
    "df = pd.read_csv(\"https://vincentarelbundock.github.io/Rdatasets/csv/carData/Ginzberg.csv\")\n",
    "\n",
    "# Display it.\n",
    "df"
   ]
  },
  {
   "cell_type": "code",
   "execution_count": 13,
   "metadata": {
    "scrolled": true
   },
   "outputs": [
    {
     "data": {
      "text/plain": [
       "False"
      ]
     },
     "execution_count": 13,
     "metadata": {},
     "output_type": "execute_result"
    }
   ],
   "source": [
    "# Check for empty values.\n",
    "df[\"simplicity\"].isnull().values.any()"
   ]
  },
  {
   "cell_type": "code",
   "execution_count": 14,
   "metadata": {},
   "outputs": [
    {
     "data": {
      "text/plain": [
       "False"
      ]
     },
     "execution_count": 14,
     "metadata": {},
     "output_type": "execute_result"
    }
   ],
   "source": [
    "df[\"depression\"].isnull().values.any()"
   ]
  },
  {
   "cell_type": "code",
   "execution_count": 15,
   "metadata": {
    "scrolled": true
   },
   "outputs": [
    {
     "data": {
      "text/html": [
       "<div>\n",
       "<style scoped>\n",
       "    .dataframe tbody tr th:only-of-type {\n",
       "        vertical-align: middle;\n",
       "    }\n",
       "\n",
       "    .dataframe tbody tr th {\n",
       "        vertical-align: top;\n",
       "    }\n",
       "\n",
       "    .dataframe thead th {\n",
       "        text-align: right;\n",
       "    }\n",
       "</style>\n",
       "<table border=\"1\" class=\"dataframe\">\n",
       "  <thead>\n",
       "    <tr style=\"text-align: right;\">\n",
       "      <th></th>\n",
       "      <th>simplicity</th>\n",
       "      <th>depression</th>\n",
       "    </tr>\n",
       "  </thead>\n",
       "  <tbody>\n",
       "    <tr>\n",
       "      <td>0</td>\n",
       "      <td>0.92983</td>\n",
       "      <td>0.59870</td>\n",
       "    </tr>\n",
       "    <tr>\n",
       "      <td>1</td>\n",
       "      <td>0.91097</td>\n",
       "      <td>0.72787</td>\n",
       "    </tr>\n",
       "    <tr>\n",
       "      <td>2</td>\n",
       "      <td>0.53366</td>\n",
       "      <td>0.53411</td>\n",
       "    </tr>\n",
       "    <tr>\n",
       "      <td>3</td>\n",
       "      <td>0.74118</td>\n",
       "      <td>0.56641</td>\n",
       "    </tr>\n",
       "    <tr>\n",
       "      <td>4</td>\n",
       "      <td>0.53366</td>\n",
       "      <td>0.50182</td>\n",
       "    </tr>\n",
       "  </tbody>\n",
       "</table>\n",
       "</div>"
      ],
      "text/plain": [
       "   simplicity  depression\n",
       "0     0.92983     0.59870\n",
       "1     0.91097     0.72787\n",
       "2     0.53366     0.53411\n",
       "3     0.74118     0.56641\n",
       "4     0.53366     0.50182"
      ]
     },
     "execution_count": 15,
     "metadata": {},
     "output_type": "execute_result"
    }
   ],
   "source": [
    "# Separate fatalism and depression columns.\n",
    "f_d = df[[\"simplicity\", \"depression\"]]\n",
    "f_d.head()"
   ]
  },
  {
   "cell_type": "markdown",
   "metadata": {},
   "source": [
    "<br>\n",
    "\n",
    "####  Plot the data"
   ]
  },
  {
   "cell_type": "code",
   "execution_count": 16,
   "metadata": {
    "scrolled": false
   },
   "outputs": [
    {
     "data": {
      "image/png": "[encoded data removed]",
      "text/plain": [
       "<Figure size 864x576 with 1 Axes>"
      ]
     },
     "metadata": {},
     "output_type": "display_data"
    }
   ],
   "source": [
    "# Plot the data.\n",
    "fig, ax = plt.subplots()\n",
    "fig.suptitle(\"Hospitalization for Depression\")\n",
    "sns.scatterplot(x=\"simplicity\", y=\"depression\", data=f_d, ax=ax, hue=\"depression\", s=150).set_title(\"Dependence of Depression on need of Simplicity\")\n",
    "\n",
    "# Display the plot.\n",
    "plt.show()"
   ]
  },
  {
   "cell_type": "markdown",
   "metadata": {},
   "source": [
    "<br>\n",
    "\n",
    "#### Calculating Standard Deviation. \n",
    "\n",
    "<br>\n",
    "\n",
    "The above data set is our population. We can calculate population standard deviation by using STDEV.P. Since it is taken as the standard deviation for every entry in the data set, even for minorities, it is called __Biased Analysis__."
   ]
  },
  {
   "cell_type": "code",
   "execution_count": 17,
   "metadata": {
    "scrolled": true
   },
   "outputs": [
    {
     "data": {
      "text/plain": [
       "0.49694172152876204"
      ]
     },
     "execution_count": 17,
     "metadata": {},
     "output_type": "execute_result"
    }
   ],
   "source": [
    "# Simulate STDDEV.P formula.\n",
    "STDEVP = np.sqrt(np.sum((f_d - np.mean(f_d))**2)/len(f_d))\n",
    "STDEVP[\"depression\"]"
   ]
  },
  {
   "cell_type": "code",
   "execution_count": 18,
   "metadata": {},
   "outputs": [
    {
     "data": {
      "text/plain": [
       "0.49999985329466384"
      ]
     },
     "execution_count": 18,
     "metadata": {},
     "output_type": "execute_result"
    }
   ],
   "source": [
    "# Simulate STDDEV.S formula \n",
    "STDEVS = np.sqrt(np.sum((f_d - np.mean(f_d))**2)/(len(f_d)-1))\n",
    "STDEVS[\"depression\"]"
   ]
  },
  {
   "cell_type": "code",
   "execution_count": 19,
   "metadata": {},
   "outputs": [
    {
     "data": {
      "text/plain": [
       "True"
      ]
     },
     "execution_count": 19,
     "metadata": {},
     "output_type": "execute_result"
    }
   ],
   "source": [
    "STDEVP[\"depression\"] < STDEVS[\"depression\"]"
   ]
  },
  {
   "cell_type": "markdown",
   "metadata": {},
   "source": [
    "<br>\n",
    "\n",
    "Now let's consider that from 82 patients we calculated simplicity and depression only for half of the patients."
   ]
  },
  {
   "cell_type": "code",
   "execution_count": 20,
   "metadata": {
    "scrolled": true
   },
   "outputs": [
    {
     "data": {
      "text/html": [
       "<div>\n",
       "<style scoped>\n",
       "    .dataframe tbody tr th:only-of-type {\n",
       "        vertical-align: middle;\n",
       "    }\n",
       "\n",
       "    .dataframe tbody tr th {\n",
       "        vertical-align: top;\n",
       "    }\n",
       "\n",
       "    .dataframe thead th {\n",
       "        text-align: right;\n",
       "    }\n",
       "</style>\n",
       "<table border=\"1\" class=\"dataframe\">\n",
       "  <thead>\n",
       "    <tr style=\"text-align: right;\">\n",
       "      <th></th>\n",
       "      <th>simplicity</th>\n",
       "      <th>depression</th>\n",
       "    </tr>\n",
       "  </thead>\n",
       "  <tbody>\n",
       "    <tr>\n",
       "      <td>12</td>\n",
       "      <td>0.68458</td>\n",
       "      <td>0.46953</td>\n",
       "    </tr>\n",
       "    <tr>\n",
       "      <td>45</td>\n",
       "      <td>0.98643</td>\n",
       "      <td>1.11539</td>\n",
       "    </tr>\n",
       "    <tr>\n",
       "      <td>29</td>\n",
       "      <td>0.85437</td>\n",
       "      <td>0.53411</td>\n",
       "    </tr>\n",
       "    <tr>\n",
       "      <td>32</td>\n",
       "      <td>0.57139</td>\n",
       "      <td>0.46953</td>\n",
       "    </tr>\n",
       "    <tr>\n",
       "      <td>53</td>\n",
       "      <td>0.77891</td>\n",
       "      <td>1.11539</td>\n",
       "    </tr>\n",
       "    <tr>\n",
       "      <td>34</td>\n",
       "      <td>1.28827</td>\n",
       "      <td>0.72787</td>\n",
       "    </tr>\n",
       "    <tr>\n",
       "      <td>21</td>\n",
       "      <td>0.70345</td>\n",
       "      <td>0.59870</td>\n",
       "    </tr>\n",
       "    <tr>\n",
       "      <td>67</td>\n",
       "      <td>1.57125</td>\n",
       "      <td>1.92272</td>\n",
       "    </tr>\n",
       "    <tr>\n",
       "      <td>38</td>\n",
       "      <td>0.47707</td>\n",
       "      <td>0.53411</td>\n",
       "    </tr>\n",
       "    <tr>\n",
       "      <td>80</td>\n",
       "      <td>1.42033</td>\n",
       "      <td>1.47061</td>\n",
       "    </tr>\n",
       "    <tr>\n",
       "      <td>75</td>\n",
       "      <td>1.85423</td>\n",
       "      <td>1.63208</td>\n",
       "    </tr>\n",
       "    <tr>\n",
       "      <td>55</td>\n",
       "      <td>1.34487</td>\n",
       "      <td>1.37373</td>\n",
       "    </tr>\n",
       "    <tr>\n",
       "      <td>43</td>\n",
       "      <td>0.72231</td>\n",
       "      <td>1.14768</td>\n",
       "    </tr>\n",
       "    <tr>\n",
       "      <td>56</td>\n",
       "      <td>0.47707</td>\n",
       "      <td>1.14768</td>\n",
       "    </tr>\n",
       "    <tr>\n",
       "      <td>15</td>\n",
       "      <td>0.98643</td>\n",
       "      <td>0.72787</td>\n",
       "    </tr>\n",
       "    <tr>\n",
       "      <td>48</td>\n",
       "      <td>1.26940</td>\n",
       "      <td>1.01851</td>\n",
       "    </tr>\n",
       "    <tr>\n",
       "      <td>2</td>\n",
       "      <td>0.53366</td>\n",
       "      <td>0.53411</td>\n",
       "    </tr>\n",
       "    <tr>\n",
       "      <td>19</td>\n",
       "      <td>0.38274</td>\n",
       "      <td>0.56641</td>\n",
       "    </tr>\n",
       "    <tr>\n",
       "      <td>60</td>\n",
       "      <td>1.09962</td>\n",
       "      <td>0.92163</td>\n",
       "    </tr>\n",
       "    <tr>\n",
       "      <td>17</td>\n",
       "      <td>0.83550</td>\n",
       "      <td>0.56641</td>\n",
       "    </tr>\n",
       "    <tr>\n",
       "      <td>52</td>\n",
       "      <td>1.59011</td>\n",
       "      <td>1.14768</td>\n",
       "    </tr>\n",
       "    <tr>\n",
       "      <td>37</td>\n",
       "      <td>0.91097</td>\n",
       "      <td>0.56641</td>\n",
       "    </tr>\n",
       "    <tr>\n",
       "      <td>46</td>\n",
       "      <td>0.51480</td>\n",
       "      <td>1.08310</td>\n",
       "    </tr>\n",
       "    <tr>\n",
       "      <td>49</td>\n",
       "      <td>2.08061</td>\n",
       "      <td>1.27685</td>\n",
       "    </tr>\n",
       "    <tr>\n",
       "      <td>1</td>\n",
       "      <td>0.91097</td>\n",
       "      <td>0.72787</td>\n",
       "    </tr>\n",
       "    <tr>\n",
       "      <td>62</td>\n",
       "      <td>0.89210</td>\n",
       "      <td>1.79354</td>\n",
       "    </tr>\n",
       "    <tr>\n",
       "      <td>35</td>\n",
       "      <td>0.25068</td>\n",
       "      <td>0.50182</td>\n",
       "    </tr>\n",
       "    <tr>\n",
       "      <td>50</td>\n",
       "      <td>1.04302</td>\n",
       "      <td>1.17997</td>\n",
       "    </tr>\n",
       "    <tr>\n",
       "      <td>7</td>\n",
       "      <td>0.83550</td>\n",
       "      <td>0.53411</td>\n",
       "    </tr>\n",
       "    <tr>\n",
       "      <td>26</td>\n",
       "      <td>0.47707</td>\n",
       "      <td>0.46953</td>\n",
       "    </tr>\n",
       "    <tr>\n",
       "      <td>70</td>\n",
       "      <td>0.72231</td>\n",
       "      <td>2.24565</td>\n",
       "    </tr>\n",
       "    <tr>\n",
       "      <td>14</td>\n",
       "      <td>0.76004</td>\n",
       "      <td>0.66329</td>\n",
       "    </tr>\n",
       "    <tr>\n",
       "      <td>13</td>\n",
       "      <td>0.47707</td>\n",
       "      <td>0.56641</td>\n",
       "    </tr>\n",
       "    <tr>\n",
       "      <td>30</td>\n",
       "      <td>1.09962</td>\n",
       "      <td>0.63099</td>\n",
       "    </tr>\n",
       "    <tr>\n",
       "      <td>4</td>\n",
       "      <td>0.53366</td>\n",
       "      <td>0.50182</td>\n",
       "    </tr>\n",
       "    <tr>\n",
       "      <td>31</td>\n",
       "      <td>1.19394</td>\n",
       "      <td>0.59870</td>\n",
       "    </tr>\n",
       "    <tr>\n",
       "      <td>6</td>\n",
       "      <td>0.77891</td>\n",
       "      <td>0.46953</td>\n",
       "    </tr>\n",
       "    <tr>\n",
       "      <td>68</td>\n",
       "      <td>1.74104</td>\n",
       "      <td>2.01960</td>\n",
       "    </tr>\n",
       "    <tr>\n",
       "      <td>0</td>\n",
       "      <td>0.92983</td>\n",
       "      <td>0.59870</td>\n",
       "    </tr>\n",
       "    <tr>\n",
       "      <td>41</td>\n",
       "      <td>1.38260</td>\n",
       "      <td>1.30915</td>\n",
       "    </tr>\n",
       "    <tr>\n",
       "      <td>54</td>\n",
       "      <td>1.23167</td>\n",
       "      <td>1.27685</td>\n",
       "    </tr>\n",
       "  </tbody>\n",
       "</table>\n",
       "</div>"
      ],
      "text/plain": [
       "    simplicity  depression\n",
       "12     0.68458     0.46953\n",
       "45     0.98643     1.11539\n",
       "29     0.85437     0.53411\n",
       "32     0.57139     0.46953\n",
       "53     0.77891     1.11539\n",
       "34     1.28827     0.72787\n",
       "21     0.70345     0.59870\n",
       "67     1.57125     1.92272\n",
       "38     0.47707     0.53411\n",
       "80     1.42033     1.47061\n",
       "75     1.85423     1.63208\n",
       "55     1.34487     1.37373\n",
       "43     0.72231     1.14768\n",
       "56     0.47707     1.14768\n",
       "15     0.98643     0.72787\n",
       "48     1.26940     1.01851\n",
       "2      0.53366     0.53411\n",
       "19     0.38274     0.56641\n",
       "60     1.09962     0.92163\n",
       "17     0.83550     0.56641\n",
       "52     1.59011     1.14768\n",
       "37     0.91097     0.56641\n",
       "46     0.51480     1.08310\n",
       "49     2.08061     1.27685\n",
       "1      0.91097     0.72787\n",
       "62     0.89210     1.79354\n",
       "35     0.25068     0.50182\n",
       "50     1.04302     1.17997\n",
       "7      0.83550     0.53411\n",
       "26     0.47707     0.46953\n",
       "70     0.72231     2.24565\n",
       "14     0.76004     0.66329\n",
       "13     0.47707     0.56641\n",
       "30     1.09962     0.63099\n",
       "4      0.53366     0.50182\n",
       "31     1.19394     0.59870\n",
       "6      0.77891     0.46953\n",
       "68     1.74104     2.01960\n",
       "0      0.92983     0.59870\n",
       "41     1.38260     1.30915\n",
       "54     1.23167     1.27685"
      ]
     },
     "execution_count": 20,
     "metadata": {},
     "output_type": "execute_result"
    }
   ],
   "source": [
    "# Select a sample of 41 patients\n",
    "a = f_d.sample(n=41)\n",
    "a"
   ]
  },
  {
   "cell_type": "markdown",
   "metadata": {},
   "source": [
    "The above sample is only a small fraction of the population. Therefore, the standard deviation using STDEV.P formula is going to be as inaccurate compared to the previous results."
   ]
  },
  {
   "cell_type": "code",
   "execution_count": 21,
   "metadata": {},
   "outputs": [
    {
     "data": {
      "text/plain": [
       "0.4761090027783462"
      ]
     },
     "execution_count": 21,
     "metadata": {},
     "output_type": "execute_result"
    }
   ],
   "source": [
    "# Perform STDDEV.P on a sample\n",
    "STDEVP_on_sample = np.sqrt(np.sum((a - np.mean(a))**2)/(len(a)))\n",
    "STDEVP_on_sample[\"depression\"]"
   ]
  },
  {
   "cell_type": "markdown",
   "metadata": {},
   "source": [
    "<br> \n",
    "\n",
    "For this reason STDEV.S formula exists. It is used on a small sample of entire population implementing Bessel's correction *(n-1)* where n is a number of samples arguments. This is called __Non-biassed analysis__ of standard deviation. [4]\n",
    "\n",
    "> 4. [Exceltip: How to use the STDEV.S Function in Excel](https://www.exceltip.com/statistical-formulas/how-to-use-stdev-s-function-in-excel.html)"
   ]
  },
  {
   "cell_type": "code",
   "execution_count": 22,
   "metadata": {
    "scrolled": true
   },
   "outputs": [
    {
     "data": {
      "text/plain": [
       "0.48202362710738156"
      ]
     },
     "execution_count": 22,
     "metadata": {},
     "output_type": "execute_result"
    }
   ],
   "source": [
    "# Simulate STDDEV.S formula \n",
    "STDEVS = np.sqrt(np.sum((a - np.mean(a))**2)/(len(a)-1))\n",
    "STDEVS[\"depression\"]"
   ]
  },
  {
   "cell_type": "markdown",
   "metadata": {},
   "source": [
    "<br>\n",
    "\n",
    "#### Standard Deviation results. \n",
    "\n",
    "Considering the results above, now we can compare Standard deviation for depression. "
   ]
  },
  {
   "cell_type": "code",
   "execution_count": 23,
   "metadata": {},
   "outputs": [
    {
     "data": {
      "text/plain": [
       "0.48202362710738156"
      ]
     },
     "execution_count": 23,
     "metadata": {},
     "output_type": "execute_result"
    }
   ],
   "source": [
    "# check what is the closest number to STDEVP\n",
    "\n",
    "list = [STDEVP_on_sample[\"depression\"], STDEVS[\"depression\"]]\n",
    "closest_to_STDEVP = min(list, key=lambda x:abs(x-STDEVP[\"depression\"]))\n",
    "closest_to_STDEVP"
   ]
  },
  {
   "cell_type": "code",
   "execution_count": 24,
   "metadata": {},
   "outputs": [
    {
     "data": {
      "text/plain": [
       "False"
      ]
     },
     "execution_count": 24,
     "metadata": {},
     "output_type": "execute_result"
    }
   ],
   "source": [
    "STDEVP_on_sample[\"depression\"] == closest_to_STDEVP"
   ]
  },
  {
   "cell_type": "code",
   "execution_count": 25,
   "metadata": {},
   "outputs": [
    {
     "data": {
      "text/plain": [
       "True"
      ]
     },
     "execution_count": 25,
     "metadata": {},
     "output_type": "execute_result"
    }
   ],
   "source": [
    "STDEVS[\"depression\"] == closest_to_STDEVP"
   ]
  },
  {
   "cell_type": "markdown",
   "metadata": {},
   "source": [
    "<br>\n",
    "\n",
    "#### Concustion.\n",
    "\n"
   ]
  },
  {
   "cell_type": "code",
   "execution_count": null,
   "metadata": {},
   "outputs": [],
   "source": []
  }
 ],
 "metadata": {
  "kernelspec": {
   "display_name": "Python 3",
   "language": "python",
   "name": "python3"
  },
  "language_info": {
   "codemirror_mode": {
    "name": "ipython",
    "version": 3
   },
   "file_extension": ".py",
   "mimetype": "text/x-python",
   "name": "python",
   "nbconvert_exporter": "python",
   "pygments_lexer": "ipython3",
   "version": "3.7.4"
  }
 },
 "nbformat": 4,
 "nbformat_minor": 2
}
