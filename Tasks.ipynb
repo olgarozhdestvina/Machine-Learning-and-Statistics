{
 "cells": [
  {
   "cell_type": "markdown",
   "metadata": {},
   "source": [
    "# Tasks 2020\n",
    "### [ Machine Learning and Statistics Module GMIT 2020 ]\n",
    "----\n",
    "\n",
    "These are my solutions to the Task assessment.\n",
    "\n",
    "Completed by: *Olga Rozhdestvina (G00387844@gmit.ie)*\n",
    "\n",
    "----\n",
    "- __TASK 1__: Calculate square root of 2 to 100 decimal places\n",
    "\n",
    "To calculate the square root, we can use Digit-by-digit algorithm with bitwise operations. [1] First we can find the integer of the square root of 2 after multiplying 2 by 10 raised to digits multiplied by 2 [2] after which we convert it into a string with correctly placed decimal point [3]\n",
    "1. Wikipedia: Integer square root: https://en.wikipedia.org/wiki/Integer_square_root#Using_only_integer_division\n",
    "2. The On-Line Encyclopedia of Integer Sequences: Prime sieve of the square root of 2: https://oeis.org/A248831\n",
    "3. Stack Overflow: How to add commas at required positions in the given string: https://stackoverflow.com/questions/47751102/how-to-add-commas-at-required-positions-in-the-given-string-in-python"
   ]
  },
  {
   "cell_type": "code",
   "execution_count": 1,
   "metadata": {},
   "outputs": [],
   "source": [
    "def sqrt2(a=2, digits=100):\n",
    "    \"\"\"\n",
    "    Function that calculates a square root of 2 to 100 decimal places\n",
    "    \"\"\"\n",
    "    # Raising 2 in order to get an integer instead of a float in the result\n",
    "    a = a * (10**(2*digits))\n",
    "    x = 0\n",
    "    # Initial guess for the root\n",
    "    x_next = 1 * (10**digits)\n",
    "    # Loop until it reaches requested number of digits\n",
    "    while x != x_next:\n",
    "        x = x_next\n",
    "        # Calculate a better guess for the square root and shift the result one diggit to the right\n",
    "        x_next = (x + (a // x)) >> 1\n",
    "    # Converting integer to a list\n",
    "    x_next = list(str(x_next))\n",
    "    # Add the decimal point at the correct location\n",
    "    for i, j in enumerate([1]):\n",
    "         x_next.insert(i + j, '.')\n",
    "    # Join list into one string\n",
    "    print(''.join(x_next))"
   ]
  },
  {
   "cell_type": "markdown",
   "metadata": {},
   "source": [
    "##### Test of the function\n",
    "Below is the test of the above function."
   ]
  },
  {
   "cell_type": "code",
   "execution_count": 2,
   "metadata": {},
   "outputs": [
    {
     "name": "stdout",
     "output_type": "stream",
     "text": [
      "1.4142135623730950488016887242096980785696718753769480731766797379907324784621070388503875343276415727\n"
     ]
    }
   ],
   "source": [
    "sqrt2()"
   ]
  }
 ],
 "metadata": {
  "kernelspec": {
   "display_name": "Python 3",
   "language": "python",
   "name": "python3"
  },
  "language_info": {
   "codemirror_mode": {
    "name": "ipython",
    "version": 3
   },
   "file_extension": ".py",
   "mimetype": "text/x-python",
   "name": "python",
   "nbconvert_exporter": "python",
   "pygments_lexer": "ipython3",
   "version": "3.7.4"
  }
 },
 "nbformat": 4,
 "nbformat_minor": 2
}