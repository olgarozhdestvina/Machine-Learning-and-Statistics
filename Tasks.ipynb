{
 "cells": [
  {
   "cell_type": "markdown",
   "metadata": {},
   "source": [
    "# Tasks 2020\n",
    "### [ Machine Learning and Statistics Module GMIT 2020 ]\n",
    "----\n",
    "\n",
    "These are my solutions to the Task assessment.\n",
    "\n",
    "Completed by: *Olga Rozhdestvina (G00387844@gmit.ie)*\n",
    "\n",
    "----\n",
    "- __TASK 1__: Calculate square root of 2 to 100 decimal places\n",
    "\n",
    "To calculate square root of 2 we can use Babylonian method - it is the trial and error method by reapeating calculations until the success occurs.[1] [2]\n",
    "\n",
    "1. https://en.wikipedia.org/wiki/Methods_of_computing_square_roots#Babylonian_method\n",
    "2. https://www.geeksforgeeks.org/square-root-of-a-perfect-square/"
   ]
  },
  {
   "cell_type": "code",
   "execution_count": 1,
   "metadata": {},
   "outputs": [],
   "source": [
    "def sqRoot(n=2):\n",
    "    \"\"\"\n",
    "    Function that calculates square root of 2 to 100 decimal places\n",
    "    \"\"\"\n",
    "    x = n\n",
    "    # Initial guess for the square root based\n",
    "    y = 1\n",
    "    # Set accuracy to draw a line for acceptable errors\n",
    "    accuracy = 0.000000001\n",
    "    # Loop until we are happy with the accuracy\n",
    "    while x - y > accuracy:\n",
    "        # Calculate a better guess for the square root\n",
    "        x = (x+y)/2\n",
    "        y = n/x\n",
    "    # Formatting to get 100 digits (though it is not working)\n",
    "    return '{:.100}'.format(x)\n",
    "    "
   ]
  },
  {
   "cell_type": "code",
   "execution_count": 2,
   "metadata": {},
   "outputs": [
    {
     "data": {
      "text/plain": [
       "'1.4142135623746898698271934335934929549694061279296875'"
      ]
     },
     "execution_count": 2,
     "metadata": {},
     "output_type": "execute_result"
    }
   ],
   "source": [
    "sqRoot(2)"
   ]
  }
 ],
 "metadata": {
  "kernelspec": {
   "display_name": "Python 3",
   "language": "python",
   "name": "python3"
  },
  "language_info": {
   "codemirror_mode": {
    "name": "ipython",
    "version": 3
   },
   "file_extension": ".py",
   "mimetype": "text/x-python",
   "name": "python",
   "nbconvert_exporter": "python",
   "pygments_lexer": "ipython3",
   "version": "3.7.4"
  }
 },
 "nbformat": 4,
 "nbformat_minor": 2
}
